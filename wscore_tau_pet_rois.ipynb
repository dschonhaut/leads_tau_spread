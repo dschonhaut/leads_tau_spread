{
 "cells": [
  {
   "cell_type": "code",
   "execution_count": 110,
   "id": "713dc67f-21dc-4bbc-9f66-4dbd56bf6c97",
   "metadata": {
    "execution": {
     "iopub.execute_input": "2023-01-09T22:15:14.372138Z",
     "iopub.status.busy": "2023-01-09T22:15:14.371792Z",
     "iopub.status.idle": "2023-01-09T22:15:14.381733Z",
     "shell.execute_reply": "2023-01-09T22:15:14.381224Z",
     "shell.execute_reply.started": "2023-01-09T22:15:14.372119Z"
    },
    "tags": []
   },
   "outputs": [],
   "source": [
    "import os.path as op\n",
    "import warnings\n",
    "import scipy.stats as stats\n",
    "import matplotlib as mpl\n",
    "import matplotlib.pyplot as plt\n",
    "import seaborn as sns\n",
    "import numpy as np\n",
    "import pandas as pd\n",
    "pd.options.display.max_rows = 100\n",
    "pd.options.display.max_columns = 999\n",
    "import statsmodels.api as sm\n",
    "\n",
    "%matplotlib inline\n",
    "mpl.rcParams[\"grid.linewidth\"] = 0.1\n",
    "mpl.rcParams[\"grid.alpha\"] = 0.75\n",
    "mpl.rcParams[\"lines.linewidth\"] = 1\n",
    "mpl.rcParams[\"lines.markersize\"] = 3\n",
    "mpl.rcParams[\"xtick.labelsize\"] = 15\n",
    "mpl.rcParams[\"ytick.labelsize\"] = 15\n",
    "mpl.rcParams[\"grid.linewidth\"] = 0.1\n",
    "mpl.rcParams[\"grid.alpha\"] = 0.75\n",
    "mpl.rcParams[\"lines.linewidth\"] = 1\n",
    "mpl.rcParams[\"lines.markersize\"] = 3\n",
    "mpl.rcParams[\"xtick.labelsize\"] = 12\n",
    "mpl.rcParams[\"ytick.labelsize\"] = 12\n",
    "mpl.rcParams[\"xtick.major.width\"] = 0.8\n",
    "mpl.rcParams[\"ytick.major.width\"] = 0.8\n",
    "colors = [\n",
    "    \"1f77b4\",\n",
    "    \"d62728\",\n",
    "    \"2ca02c\",\n",
    "    \"ff7f0e\",\n",
    "    \"9467bd\",\n",
    "    \"8c564b\",\n",
    "    \"e377c2\",\n",
    "    \"7f7f7f\",\n",
    "    \"bcbd22\",\n",
    "    \"17becf\",\n",
    "]\n",
    "mpl.rcParams[\"axes.prop_cycle\"] = mpl.cycler(\"color\", colors)\n",
    "mpl.rcParams[\"axes.spines.right\"] = False\n",
    "mpl.rcParams[\"axes.spines.top\"] = False\n",
    "mpl.rcParams[\"axes.formatter.offset_threshold\"] = 2\n",
    "mpl.rcParams[\"axes.labelsize\"] = 14\n",
    "mpl.rcParams[\"axes.labelpad\"] = 8\n",
    "mpl.rcParams[\"axes.titlesize\"] = 16\n",
    "mpl.rcParams[\"axes.grid\"] = False\n",
    "mpl.rcParams[\"axes.axisbelow\"] = True\n",
    "mpl.rcParams[\"legend.loc\"] = \"upper right\"\n",
    "mpl.rcParams[\"legend.fontsize\"] = 14\n",
    "mpl.rcParams[\"legend.frameon\"] = False\n",
    "mpl.rcParams[\"figure.dpi\"] = 300\n",
    "mpl.rcParams[\"figure.titlesize\"] = 16\n",
    "mpl.rcParams[\"figure.figsize\"] = (10, 4)\n",
    "mpl.rcParams[\"figure.subplot.wspace\"] = 0.25\n",
    "mpl.rcParams[\"figure.subplot.hspace\"] = 0.25\n",
    "mpl.rcParams[\"savefig.format\"] = \"pdf\"\n",
    "mpl.rcParams[\"pdf.fonttype\"] = 42\n",
    "font = {\"tick\": 6, \"label\": 7, \"title\": 8}"
   ]
  },
  {
   "cell_type": "code",
   "execution_count": 45,
   "id": "f40a9935-1532-439d-ab3b-3b6c3b2485cd",
   "metadata": {
    "execution": {
     "iopub.execute_input": "2023-01-09T21:53:01.998261Z",
     "iopub.status.busy": "2023-01-09T21:53:01.998030Z",
     "iopub.status.idle": "2023-01-09T21:53:02.818603Z",
     "shell.execute_reply": "2023-01-09T21:53:02.818148Z",
     "shell.execute_reply.started": "2023-01-09T21:53:01.998246Z"
    },
    "tags": []
   },
   "outputs": [
    {
     "name": "stdout",
     "output_type": "stream",
     "text": [
      "tau_rois: (641, 163)\n"
     ]
    }
   ],
   "source": [
    "proj_dir = \"/Users/dschonhaut/box/projects/leads_tau_spread\"\n",
    "\n",
    "# Load FreeSurfer ROI labels.\n",
    "fsrois = pd.read_excel(\n",
    "    op.join(proj_dir, \"data\", \"FTP_PETCore_Analysis_2022-12-15.xlsx\"), \"fsrois\"\n",
    ")\n",
    "\n",
    "# Load subject demographic and tau-PET ROI SUVR values.\n",
    "tau_rois = pd.read_excel(\n",
    "    op.join(proj_dir, \"data\", \"FTP_PETCore_Analysis_2022-12-15.xlsx\"), \"data\"\n",
    ")\n",
    "tau_rois = tau_rois.sort_values([\"subj\", \"visit\"])\n",
    "rois_in_order = [\"{}_{}\".format(hem.lower(), region.lower()) for (hem, region) in fsrois.sort_values('order')[['hem', 'region']].values]\n",
    "\n",
    "print(\"tau_rois: {}\".format(tau_rois.shape))"
   ]
  },
  {
   "cell_type": "code",
   "execution_count": 57,
   "id": "217253fb-fb3d-4933-84cb-ef7c6663913e",
   "metadata": {
    "execution": {
     "iopub.execute_input": "2023-01-09T21:59:23.504957Z",
     "iopub.status.busy": "2023-01-09T21:59:23.504682Z",
     "iopub.status.idle": "2023-01-09T21:59:23.510073Z",
     "shell.execute_reply": "2023-01-09T21:59:23.509308Z",
     "shell.execute_reply.started": "2023-01-09T21:59:23.504941Z"
    },
    "tags": []
   },
   "outputs": [
    {
     "name": "stdout",
     "output_type": "stream",
     "text": [
      "demo: 19 columns\n",
      "suvr: 72 columns\n",
      "vol: 72 columns\n"
     ]
    }
   ],
   "source": [
    "cols = {\n",
    "    \"demo\": [\n",
    "        x\n",
    "        for x in tau_rois.columns\n",
    "        if np.all((not x.endswith(\"_suvr\"), not x.endswith(\"_vol\")))\n",
    "    ],\n",
    "    \"suvr\": [x for x in tau_rois.columns if x.endswith(\"_suvr\")],\n",
    "    \"vol\": [x for x in tau_rois.columns if x.endswith(\"_vol\")],\n",
    "}\n",
    "\n",
    "cols[\"suvr\"] = [\"{}_suvr\".format(x) for x in rois_in_order]\n",
    "cols[\"vol\"] = [\"{}_vol\".format(x) for x in rois_in_order]\n",
    "\n",
    "for k, v in cols.items():\n",
    "    print(\"{}: {} columns\".format(k, len(v)))"
   ]
  },
  {
   "cell_type": "code",
   "execution_count": 38,
   "id": "f8d36b77-e7fe-40a4-8e6d-4cdf1f1856a2",
   "metadata": {
    "execution": {
     "iopub.execute_input": "2023-01-09T19:26:05.449602Z",
     "iopub.status.busy": "2023-01-09T19:26:05.449338Z",
     "iopub.status.idle": "2023-01-09T19:26:06.250253Z",
     "shell.execute_reply": "2023-01-09T19:26:06.249758Z",
     "shell.execute_reply.started": "2023-01-09T19:26:05.449586Z"
    },
    "tags": []
   },
   "outputs": [
    {
     "name": "stdout",
     "output_type": "stream",
     "text": [
      "Check 144 W-score columns in the controls...\n",
      "All means are 0 : True\n",
      "All stds are 1  : True\n"
     ]
    }
   ],
   "source": [
    "warnings.filterwarnings(\"ignore\")\n",
    "\n",
    "# W-score values against the control group.\n",
    "tau_rois_w = tau_rois.loc[:, cols[\"demo\"]].copy()\n",
    "cols_to_wscore = cols[\"suvr\"] + cols[\"vol\"]\n",
    "\n",
    "# Find baseline visits for controls.\n",
    "idx = tau_rois.query(\"(dx=='CON') & (visit==1)\").index\n",
    "\n",
    "params = {}\n",
    "for col in cols_to_wscore:\n",
    "    # Regress column values against control age and sex.\n",
    "    mod = sm.OLS(\n",
    "        endog=tau_rois.loc[idx, col],\n",
    "        exog=sm.add_constant(tau_rois.loc[idx, [\"age_at_baseline_pet\", \"sex_m\"]]),\n",
    "    )\n",
    "    res = mod.fit()\n",
    "\n",
    "    # Log the model results.\n",
    "    params[col] = {\n",
    "        \"nobs\": idx.size,\n",
    "        \"r\": np.sqrt(res.rsquared),\n",
    "        \"icpt\": res.params[\"const\"],\n",
    "        \"beta_age\": res.params[\"age_at_baseline_pet\"],\n",
    "        \"t_age\": res.tvalues[\"age_at_baseline_pet\"],\n",
    "        \"p_age\": res.pvalues[\"age_at_baseline_pet\"],\n",
    "        \"beta_sex\": res.params[\"sex_m\"],\n",
    "        \"t_sex\": res.tvalues[\"sex_m\"],\n",
    "        \"p_sex\": res.pvalues[\"sex_m\"],\n",
    "        \"mean_resid\": np.mean(res.resid),\n",
    "        \"std_resid\": np.std(res.resid),\n",
    "    }\n",
    "\n",
    "    # Predict test score from age for all subjects (controls + patients).\n",
    "    resid = tau_rois[col] - res.predict(\n",
    "        exog=sm.add_constant(tau_rois[[\"age_at_baseline_pet\", \"sex_m\"]])\n",
    "    )\n",
    "\n",
    "    # Z-score the residuals to obtain W-scores. Mean and standard deviation\n",
    "    # W-score in the control group should be 0 and 1, respectively.\n",
    "    _mean = params[col][\"mean_resid\"]  # should be 0\n",
    "    _std = params[col][\"std_resid\"]\n",
    "    tau_rois_w.loc[:, col] = (resid - _mean) / _std\n",
    "\n",
    "# Calculate the average tau-PET W-score across regions in each subject.\n",
    "tau_rois_w[\"suvr_all_unweighted\"] = tau_rois_w.loc[:, cols[\"suvr\"]].mean(axis=1).values\n",
    "tau_rois_w[\"suvr_all_weighted\"] = np.sum(tau_rois_w.loc[:, cols[\"suvr\"]].values * tau_rois.loc[:, cols[\"vol\"]].values, axis=1) / tau_rois.loc[:, cols[\"vol\"]].sum(axis=1).values\n",
    "\n",
    "# Check that all W-score column means are 0 and stdevs are 1 for the controls.\n",
    "print('Check {} W-score columns in the controls...'.format(len(cols_to_wscore)),\n",
    "      'All means are 0 : {}'.format(np.allclose([0], [np.max(np.abs(np.mean(tau_rois_w.loc[idx, cols_to_wscore], 0).values))])),\n",
    "      'All stds are 1  : {}'.format(np.allclose([1], [np.max(np.abs(np.std(tau_rois_w.loc[idx, cols_to_wscore], 0).values))])),\n",
    "      sep='\\n')\n",
    "\n",
    "warnings.resetwarnings()"
   ]
  },
  {
   "cell_type": "code",
   "execution_count": 116,
   "id": "afa4dc87-25f0-4edc-b351-5cbbbb0e1bf2",
   "metadata": {
    "execution": {
     "iopub.execute_input": "2023-01-09T22:27:55.461463Z",
     "iopub.status.busy": "2023-01-09T22:27:55.461192Z",
     "iopub.status.idle": "2023-01-09T22:27:55.465361Z",
     "shell.execute_reply": "2023-01-09T22:27:55.464875Z",
     "shell.execute_reply.started": "2023-01-09T22:27:55.461446Z"
    }
   },
   "outputs": [
    {
     "data": {
      "text/plain": [
       "array(['CON', 'EOAD', 'EOnonAD'], dtype=object)"
      ]
     },
     "execution_count": 116,
     "metadata": {},
     "output_type": "execute_result"
    }
   ],
   "source": [
    "tau_rois_w['dx'].unique()"
   ]
  },
  {
   "cell_type": "code",
   "execution_count": 139,
   "id": "9d0c4045-7277-4f4c-8d51-db1ea713c2e5",
   "metadata": {
    "execution": {
     "iopub.execute_input": "2023-01-09T22:52:25.760208Z",
     "iopub.status.busy": "2023-01-09T22:52:25.759978Z",
     "iopub.status.idle": "2023-01-09T22:52:25.782237Z",
     "shell.execute_reply": "2023-01-09T22:52:25.781747Z",
     "shell.execute_reply.started": "2023-01-09T22:52:25.760193Z"
    },
    "tags": []
   },
   "outputs": [],
   "source": [
    "# Rank subjects in each diagnostic group by their mean baseline tau-PET W-score across regions.\n",
    "tau_rois_w['subj_order_suvr_all'] = np.nan\n",
    "# for dx in tau_rois_w['dx'].unique():\n",
    "for dx in ['EOAD']:\n",
    "    _idx = tau_rois_w.query(\"(dx=='{}') & (pet_visits>1) & (visit==1)\".format(dx)).index\n",
    "    subjs_in_order = tau_rois_w.loc[_idx, :].sort_values(\"suvr_all_unweighted\")[\"subj\"].tolist()\n",
    "    _idx = tau_rois_w.query(\"(dx=='{}') & (pet_visits>1)\".format(dx)).index\n",
    "    tau_rois_w.loc[_idx, 'subj_order_suvr_all'] = tau_rois_w.loc[_idx, 'subj'].apply(lambda x: subjs_in_order.index(x))\n",
    "    \n",
    "# Re-sort subjects.\n",
    "tau_rois_w = tau_rois_w.sort_values(['dx', 'subj_order_suvr_all', 'visit']).reset_index(drop=True)"
   ]
  },
  {
   "cell_type": "code",
   "execution_count": 138,
   "id": "b803abf5-8fa8-4424-b233-0479ad378d29",
   "metadata": {
    "execution": {
     "iopub.execute_input": "2023-01-09T22:51:58.102715Z",
     "iopub.status.busy": "2023-01-09T22:51:58.102456Z",
     "iopub.status.idle": "2023-01-09T22:51:58.107606Z",
     "shell.execute_reply": "2023-01-09T22:51:58.107098Z",
     "shell.execute_reply.started": "2023-01-09T22:51:58.102699Z"
    }
   },
   "outputs": [
    {
     "data": {
      "text/plain": [
       "4"
      ]
     },
     "execution_count": 138,
     "metadata": {},
     "output_type": "execute_result"
    }
   ],
   "source": [
    "tau_rois_w['pet_visits'].max()"
   ]
  },
  {
   "cell_type": "code",
   "execution_count": 141,
   "id": "2767553d-31f5-4ce4-bbef-198562b3941a",
   "metadata": {
    "execution": {
     "iopub.execute_input": "2023-01-09T22:52:41.391345Z",
     "iopub.status.busy": "2023-01-09T22:52:41.391092Z",
     "iopub.status.idle": "2023-01-09T22:52:41.396413Z",
     "shell.execute_reply": "2023-01-09T22:52:41.395811Z",
     "shell.execute_reply.started": "2023-01-09T22:52:41.391330Z"
    },
    "tags": []
   },
   "outputs": [
    {
     "data": {
      "text/plain": [
       "(305, 164)"
      ]
     },
     "execution_count": 141,
     "metadata": {},
     "output_type": "execute_result"
    }
   ],
   "source": [
    "tau_rois_w.loc[_idx, :]"
   ]
  },
  {
   "cell_type": "code",
   "execution_count": 150,
   "id": "7aa49260-968b-490c-8c64-a158adb7b56a",
   "metadata": {
    "execution": {
     "iopub.execute_input": "2023-01-09T23:07:47.443773Z",
     "iopub.status.busy": "2023-01-09T23:07:47.443469Z",
     "iopub.status.idle": "2023-01-09T23:07:47.465975Z",
     "shell.execute_reply": "2023-01-09T23:07:47.465195Z",
     "shell.execute_reply.started": "2023-01-09T23:07:47.443753Z"
    },
    "tags": []
   },
   "outputs": [],
   "source": [
    "# Make tau-PET W-score matrices (subj x region)\n",
    "wscore_mats = {}\n",
    "keep_cols = ['subj_order_suvr_all'] + cols['suvr']\n",
    "# for grp, df in tau_rois_w.groupby(['dx', 'visit']):\n",
    "#     wscore_mats[grp] = df[keep_cols].values   \n",
    "\n",
    "wscore_mats[('EOAD', 1)] = tau_rois_w.query(\"(dx=='EOAD') & (pet_visits>1) & (visit==1)\").sort_values('subj_order_suvr_all')[keep_cols].values\n",
    "wscore_mats[('EOAD', 2)] = tau_rois_w.query(\"(dx=='EOAD') & (pet_visits>1) & (visit==2)\").sort_values('subj_order_suvr_all')[keep_cols].values\n",
    "wscore_mats[('EOAD', 3)] = tau_rois_w.query(\"(dx=='EOAD') & (pet_visits>1) & (visit==3)\").sort_values('subj_order_suvr_all')[keep_cols].values\n",
    "wscore_mats[('EOAD', 4)] = tau_rois_w.query(\"(dx=='EOAD') & (pet_visits>1) & (visit==4)\").sort_values('subj_order_suvr_all')[keep_cols].values"
   ]
  },
  {
   "cell_type": "code",
   "execution_count": 152,
   "id": "ff2cc028-f332-4e75-bde8-0e151874ec24",
   "metadata": {
    "execution": {
     "iopub.execute_input": "2023-01-09T23:08:02.877939Z",
     "iopub.status.busy": "2023-01-09T23:08:02.877680Z",
     "iopub.status.idle": "2023-01-09T23:08:02.882419Z",
     "shell.execute_reply": "2023-01-09T23:08:02.881649Z",
     "shell.execute_reply.started": "2023-01-09T23:08:02.877921Z"
    },
    "tags": []
   },
   "outputs": [
    {
     "data": {
      "text/plain": [
       "(129, 73)"
      ]
     },
     "execution_count": 152,
     "metadata": {},
     "output_type": "execute_result"
    }
   ],
   "source": [
    "wscore_mats[('EOAD', 1)].shape"
   ]
  },
  {
   "cell_type": "code",
   "execution_count": 154,
   "id": "462b1341-1258-465f-a59e-0aef07340c5f",
   "metadata": {
    "execution": {
     "iopub.execute_input": "2023-01-09T23:09:00.145916Z",
     "iopub.status.busy": "2023-01-09T23:09:00.145691Z",
     "iopub.status.idle": "2023-01-09T23:09:00.150038Z",
     "shell.execute_reply": "2023-01-09T23:09:00.149280Z",
     "shell.execute_reply.started": "2023-01-09T23:09:00.145901Z"
    },
    "tags": []
   },
   "outputs": [
    {
     "name": "stdout",
     "output_type": "stream",
     "text": [
      "129 47.13431882276412\n"
     ]
    }
   ],
   "source": [
    "print(np.max([len(wscore_mats[('EOAD', visit)]) for visit in range(1, 5)]),\n",
    "      np.max([np.max(wscore_mats[('EOAD', visit)][:, 1:]) for visit in range(1, 5)]))"
   ]
  },
  {
   "cell_type": "code",
   "execution_count": 163,
   "id": "6dc797fd-1220-4af4-b9f9-f25d45b2e51f",
   "metadata": {
    "execution": {
     "iopub.execute_input": "2023-01-09T23:13:08.291418Z",
     "iopub.status.busy": "2023-01-09T23:13:08.291179Z",
     "iopub.status.idle": "2023-01-09T23:13:08.294918Z",
     "shell.execute_reply": "2023-01-09T23:13:08.294497Z",
     "shell.execute_reply.started": "2023-01-09T23:13:08.291399Z"
    },
    "tags": []
   },
   "outputs": [
    {
     "data": {
      "text/plain": [
       "'/Users/dschonhaut/box/projects/leads_tau_spread/figs'"
      ]
     },
     "execution_count": 163,
     "metadata": {},
     "output_type": "execute_result"
    }
   ],
   "source": [
    "fig_dir = op.join(proj_dir, 'figs')"
   ]
  },
  {
   "cell_type": "code",
   "execution_count": 168,
   "id": "c43b2f19-b634-47e0-a558-5e9e7859a41a",
   "metadata": {
    "execution": {
     "iopub.execute_input": "2023-01-09T23:21:09.376865Z",
     "iopub.status.busy": "2023-01-09T23:21:09.376632Z",
     "iopub.status.idle": "2023-01-09T23:21:09.380454Z",
     "shell.execute_reply": "2023-01-09T23:21:09.380004Z",
     "shell.execute_reply.started": "2023-01-09T23:21:09.376850Z"
    },
    "tags": []
   },
   "outputs": [
    {
     "data": {
      "text/plain": [
       "(-10.16443447301154, 21.447109637416943)"
      ]
     },
     "execution_count": 168,
     "metadata": {},
     "output_type": "execute_result"
    }
   ],
   "source": [
    "mat.min(), mat.max()"
   ]
  },
  {
   "cell_type": "code",
   "execution_count": 176,
   "id": "e432049a-e4c1-469a-a72c-d5e54fd7aa8e",
   "metadata": {
    "execution": {
     "iopub.execute_input": "2023-01-09T23:26:08.169111Z",
     "iopub.status.busy": "2023-01-09T23:26:08.168812Z",
     "iopub.status.idle": "2023-01-09T23:26:08.179737Z",
     "shell.execute_reply": "2023-01-09T23:26:08.178709Z",
     "shell.execute_reply.started": "2023-01-09T23:26:08.169092Z"
    }
   },
   "outputs": [
    {
     "ename": "NameError",
     "evalue": "name 'dat' is not defined",
     "output_type": "error",
     "traceback": [
      "\u001b[0;31m---------------------------------------------------------------------------\u001b[0m",
      "\u001b[0;31mNameError\u001b[0m                                 Traceback (most recent call last)",
      "Cell \u001b[0;32mIn [176], line 1\u001b[0m\n\u001b[0;32m----> 1\u001b[0m \u001b[43mdat\u001b[49m[ii, \u001b[38;5;241m0\u001b[39m]\n",
      "\u001b[0;31mNameError\u001b[0m: name 'dat' is not defined"
     ]
    }
   ],
   "source": [
    "dat[ii, 0]"
   ]
  },
  {
   "cell_type": "code",
   "execution_count": 185,
   "id": "35d42a3d-0443-4233-b0f4-0dabe79c408e",
   "metadata": {
    "execution": {
     "iopub.execute_input": "2023-01-09T23:28:53.797440Z",
     "iopub.status.busy": "2023-01-09T23:28:53.797190Z",
     "iopub.status.idle": "2023-01-09T23:28:53.801779Z",
     "shell.execute_reply": "2023-01-09T23:28:53.801226Z",
     "shell.execute_reply.started": "2023-01-09T23:28:53.797424Z"
    },
    "tags": []
   },
   "outputs": [
    {
     "data": {
      "text/plain": [
       "[0,\n",
       " 1,\n",
       " 3,\n",
       " 5,\n",
       " 6,\n",
       " 10,\n",
       " 14,\n",
       " 18,\n",
       " 20,\n",
       " 21,\n",
       " 27,\n",
       " 29,\n",
       " 32,\n",
       " 33,\n",
       " 35,\n",
       " 44,\n",
       " 50,\n",
       " 66,\n",
       " 75,\n",
       " 77,\n",
       " 78,\n",
       " 79,\n",
       " 80,\n",
       " 82,\n",
       " 83,\n",
       " 90,\n",
       " 91,\n",
       " 93,\n",
       " 94,\n",
       " 100,\n",
       " 103,\n",
       " 104,\n",
       " 106,\n",
       " 108,\n",
       " 113,\n",
       " 115,\n",
       " 118,\n",
       " 121]"
      ]
     },
     "execution_count": 185,
     "metadata": {},
     "output_type": "execute_result"
    }
   ],
   "source": [
    "wscore_mats[(dx, 3)][:, 0].astype(int).tolist()"
   ]
  },
  {
   "cell_type": "code",
   "execution_count": 192,
   "id": "d68fcbb3-7baf-4671-9609-48f311a5456b",
   "metadata": {
    "execution": {
     "iopub.execute_input": "2023-01-09T23:32:23.455057Z",
     "iopub.status.busy": "2023-01-09T23:32:23.454808Z",
     "iopub.status.idle": "2023-01-09T23:32:23.458501Z",
     "shell.execute_reply": "2023-01-09T23:32:23.457922Z",
     "shell.execute_reply.started": "2023-01-09T23:32:23.455039Z"
    },
    "tags": []
   },
   "outputs": [],
   "source": [
    "keep_rows = wscore_mats[(dx, 3)][:, 0].astype(int).tolist()\n",
    "mat = np.zeros(wscore_mats[(dx, 1)].shape) * np.nan\n",
    "mat[keep_rows, :] = wscore_mats[(dx, 3)]\n",
    "mat -= wscore_mats[(dx, 1)]"
   ]
  },
  {
   "cell_type": "code",
   "execution_count": 194,
   "id": "c9447ee0-883e-4f84-addd-9bd7132f5323",
   "metadata": {
    "execution": {
     "iopub.execute_input": "2023-01-09T23:32:37.382612Z",
     "iopub.status.busy": "2023-01-09T23:32:37.382237Z",
     "iopub.status.idle": "2023-01-09T23:32:37.387345Z",
     "shell.execute_reply": "2023-01-09T23:32:37.386695Z",
     "shell.execute_reply.started": "2023-01-09T23:32:37.382592Z"
    },
    "tags": []
   },
   "outputs": [
    {
     "data": {
      "text/plain": [
       "(-6.832102939350513, 15.819015543887991)"
      ]
     },
     "execution_count": 194,
     "metadata": {},
     "output_type": "execute_result"
    }
   ],
   "source": [
    "np.nanmin(mat), np.nanmax(mat)"
   ]
  },
  {
   "cell_type": "code",
   "execution_count": 175,
   "id": "2d820813-0089-4b73-aeab-52e9384ff5b5",
   "metadata": {
    "execution": {
     "iopub.execute_input": "2023-01-09T23:25:54.381550Z",
     "iopub.status.busy": "2023-01-09T23:25:54.381261Z",
     "iopub.status.idle": "2023-01-09T23:25:54.397002Z",
     "shell.execute_reply": "2023-01-09T23:25:54.395914Z",
     "shell.execute_reply.started": "2023-01-09T23:25:54.381534Z"
    },
    "tags": []
   },
   "outputs": [
    {
     "ename": "ValueError",
     "evalue": "operands could not be broadcast together with shapes (38,73) (129,73) ",
     "output_type": "error",
     "traceback": [
      "\u001b[0;31m---------------------------------------------------------------------------\u001b[0m",
      "\u001b[0;31mValueError\u001b[0m                                Traceback (most recent call last)",
      "Cell \u001b[0;32mIn [175], line 2\u001b[0m\n\u001b[1;32m      1\u001b[0m mat \u001b[38;5;241m=\u001b[39m np\u001b[38;5;241m.\u001b[39mzeros(wscore_mats[(dx, \u001b[38;5;241m1\u001b[39m)]\u001b[38;5;241m.\u001b[39mshape) \u001b[38;5;241m*\u001b[39m np\u001b[38;5;241m.\u001b[39mnan\n\u001b[0;32m----> 2\u001b[0m dat \u001b[38;5;241m=\u001b[39m \u001b[43mwscore_mats\u001b[49m\u001b[43m[\u001b[49m\u001b[43m(\u001b[49m\u001b[43mdx\u001b[49m\u001b[43m,\u001b[49m\u001b[43m \u001b[49m\u001b[38;5;241;43m3\u001b[39;49m\u001b[43m)\u001b[49m\u001b[43m]\u001b[49m\u001b[43m \u001b[49m\u001b[38;5;241;43m-\u001b[39;49m\u001b[43m \u001b[49m\u001b[43mwscore_mats\u001b[49m\u001b[43m[\u001b[49m\u001b[43m(\u001b[49m\u001b[43mdx\u001b[49m\u001b[43m,\u001b[49m\u001b[43m \u001b[49m\u001b[38;5;241;43m1\u001b[39;49m\u001b[43m)\u001b[49m\u001b[43m]\u001b[49m\n\u001b[1;32m      3\u001b[0m \u001b[38;5;28;01mfor\u001b[39;00m ii \u001b[38;5;129;01min\u001b[39;00m \u001b[38;5;28mrange\u001b[39m(dat\u001b[38;5;241m.\u001b[39mshape[\u001b[38;5;241m0\u001b[39m]):\n\u001b[1;32m      4\u001b[0m     mat[dat[ii, \u001b[38;5;241m0\u001b[39m], :] \u001b[38;5;241m=\u001b[39m dat[ii, :]\n",
      "\u001b[0;31mValueError\u001b[0m: operands could not be broadcast together with shapes (38,73) (129,73) "
     ]
    }
   ],
   "source": [
    "v1 = np.zeros(wscore_mats[(dx, 1)].shape) * np.nan\n",
    "v3 = np.zeros(wscore_mats[(dx, 1)].shape) * np.nan\n",
    "\n",
    "v3 = wscore_mats[(dx, 3)] - wscore_mats[(dx, 1)]\n",
    "for ii in wscore_mats[(dx, 3)][:, 0]:\n",
    "    mat[dat[ii, 0], :] = dat[ii, :]"
   ]
  },
  {
   "cell_type": "code",
   "execution_count": 201,
   "id": "7bb7ec25-28a6-476d-9063-83034f8843fc",
   "metadata": {
    "execution": {
     "iopub.execute_input": "2023-01-09T23:38:38.188386Z",
     "iopub.status.busy": "2023-01-09T23:38:38.188139Z",
     "iopub.status.idle": "2023-01-09T23:38:38.488789Z",
     "shell.execute_reply": "2023-01-09T23:38:38.488346Z",
     "shell.execute_reply.started": "2023-01-09T23:38:38.188369Z"
    },
    "tags": []
   },
   "outputs": [
    {
     "name": "stdout",
     "output_type": "stream",
     "text": [
      "Saved /Users/dschonhaut/box/projects/leads_tau_spread/figs/FTP_ROI_W-scores_EOAD_Visit3_129subjs.png\n"
     ]
    },
    {
     "data": {
      "image/png": "[encoded data removed]",
      "text/plain": [
       "<Figure size 1230x1138.89 with 2 Axes>"
      ]
     },
     "metadata": {},
     "output_type": "display_data"
    }
   ],
   "source": [
    "dx = 'EOAD'\n",
    "# visit = 2\n",
    "# mat = wscore_mats[(dx, visit)]\n",
    "\n",
    "visit = 3\n",
    "keep_rows = wscore_mats[(dx, 3)][:, 0].astype(int).tolist()\n",
    "mat = np.zeros(wscore_mats[(dx, 1)].shape) * np.nan\n",
    "mat[keep_rows, :] = wscore_mats[(dx, 3)]\n",
    "\n",
    "vmin = 2\n",
    "vmax = 48\n",
    "cbar_ticks = [2, 12, 24, 36, 48]\n",
    "cmap = 'rocket'\n",
    "\n",
    "# visit = '2 - 1'\n",
    "# mat = wscore_mats[(dx, 2)] - wscore_mats[(dx, 1)]\n",
    "\n",
    "# visit = '3 - 1'\n",
    "# keep_rows = wscore_mats[(dx, 3)][:, 0].astype(int).tolist()\n",
    "# mat = np.zeros(wscore_mats[(dx, 1)].shape) * np.nan\n",
    "# mat[keep_rows, :] = wscore_mats[(dx, 3)]\n",
    "# mat -= wscore_mats[(dx, 1)]\n",
    "\n",
    "# vmin = -22\n",
    "# vmax = 22\n",
    "# cbar_ticks = [-22, -11, 0, 11, 22]\n",
    "# cmap = 'RdBu_r'\n",
    "\n",
    "colws = {1: 2.05, 2: 3.125, 3: 6.45}\n",
    "grid_shp = [50, 54]\n",
    "figsize = (colws[1], colws[1] * (grid_shp[0]/grid_shp[1]))\n",
    "dpi = 600\n",
    "ticklen = 2\n",
    "tickwidth = 0.5\n",
    "tickpad = 1.5\n",
    "labelpad = 3\n",
    "cbar_label = 'FTP W-score'\n",
    "nsubjs = mat.shape[0]\n",
    "fig_title = 'Visit {}'.format(visit)\n",
    "background_color = 'w'\n",
    "savefig = 0\n",
    "overwrite = 1\n",
    "# ---------------------\n",
    "\n",
    "plt.close('all')\n",
    "fig = plt.figure(figsize=figsize, dpi=dpi)\n",
    "ax = [plt.subplot2grid(grid_shp, (0, 0), rowspan=50, colspan=50),\n",
    "      plt.subplot2grid(grid_shp, (0, 51), rowspan=50, colspan=3)]\n",
    "\n",
    "iax = 0\n",
    "_ax = ax[iax]                  \n",
    "_ax = sns.heatmap(mat[:, 1:], vmin=vmin, vmax=vmax, ax=_ax, cbar=True, cbar_ax=ax[iax+1], cmap=cmap)\n",
    "\n",
    "cbar = _ax.collections[0].colorbar\n",
    "cbar.ax.tick_params(labelsize=font['tick'], length=ticklen, width=tickwidth, pad=tickpad)\n",
    "cbar.set_ticks(cbar_ticks)\n",
    "cbar.set_ticklabels(cbar_ticks)\n",
    "if cbar_label is not None:\n",
    "    cbar.set_label(cbar_label, fontsize=font['label'], labelpad=labelpad)\n",
    "_ax.set_facecolor(background_color)\n",
    "# _ax.invert_yaxis()\n",
    "_ax.set_xticks([])\n",
    "_ax.set_yticks([])\n",
    "_ax.set_title(fig_title, fontsize=font['title'])\n",
    "\n",
    "if savefig:\n",
    "    filename = op.join(fig_dir, \"FTP_ROI_W-scores_{}_Visit{}_{}subjs.png\".format(dx, str(visit).replace(' ', ''), nsubjs))\n",
    "    if overwrite or not op.exists(filename):\n",
    "        fig.savefig(filename, dpi=dpi, bbox_inches='tight', pad_inches=0)\n",
    "        print('Saved {}'.format(filename))"
   ]
  },
  {
   "cell_type": "code",
   "execution_count": 6,
   "id": "28108606-2b65-4e13-8ff5-7cfa866ad613",
   "metadata": {
    "execution": {
     "iopub.execute_input": "2023-01-09T18:52:06.666895Z",
     "iopub.status.busy": "2023-01-09T18:52:06.666625Z",
     "iopub.status.idle": "2023-01-09T18:52:06.683055Z",
     "shell.execute_reply": "2023-01-09T18:52:06.682617Z",
     "shell.execute_reply.started": "2023-01-09T18:52:06.666877Z"
    }
   },
   "outputs": [
    {
     "data": {
      "text/plain": [
       "l_rostralanteriorcingulate_suvr     2.356529\n",
       "r_hippocampus_suvr                  2.391099\n",
       "r_rostralanteriorcingulate_suvr     2.533800\n",
       "l_hippocampus_suvr                  2.615459\n",
       "r_temporalpole_suvr                 3.236199\n",
       "                                     ...    \n",
       "l_superiorparietal_suvr            13.044196\n",
       "r_inferiorparietal_suvr            13.528589\n",
       "r_supramarginal_suvr               13.721827\n",
       "r_caudalmiddlefrontal_suvr         14.721389\n",
       "l_caudalmiddlefrontal_suvr         16.507058\n",
       "Length: 72, dtype: float64"
      ]
     },
     "execution_count": 6,
     "metadata": {},
     "output_type": "execute_result"
    }
   ],
   "source": [
    "tau_rois_w.loc[tau_rois.query(\"(dx=='EOAD') & (visit==1)\").index, cols[\"suvr\"]].mean(\n",
    "    axis=0\n",
    ").sort_values()"
   ]
  },
  {
   "cell_type": "code",
   "execution_count": 7,
   "id": "31358e90-b3fa-4dfd-87a5-b358b54b0465",
   "metadata": {
    "execution": {
     "iopub.execute_input": "2023-01-09T18:52:16.073903Z",
     "iopub.status.busy": "2023-01-09T18:52:16.073656Z",
     "iopub.status.idle": "2023-01-09T18:52:16.089309Z",
     "shell.execute_reply": "2023-01-09T18:52:16.088855Z",
     "shell.execute_reply.started": "2023-01-09T18:52:16.073885Z"
    },
    "tags": []
   },
   "outputs": [
    {
     "data": {
      "text/plain": [
       "l_inferiorparietal_vol           -1.781068\n",
       "r_inferiorparietal_vol           -1.712836\n",
       "l_amygdala_vol                   -1.616274\n",
       "l_middletemporal_vol             -1.491558\n",
       "r_bankssts_vol                   -1.414701\n",
       "                                    ...   \n",
       "l_pericalcarine_vol               0.254281\n",
       "l_paracentral_vol                 0.258976\n",
       "r_rostralanteriorcingulate_vol    0.297397\n",
       "r_caudalanteriorcingulate_vol     0.374722\n",
       "r_frontalpole_vol                 0.597365\n",
       "Length: 72, dtype: float64"
      ]
     },
     "execution_count": 7,
     "metadata": {},
     "output_type": "execute_result"
    }
   ],
   "source": [
    "tau_rois_w.loc[tau_rois.query(\"(dx=='EOAD') & (visit==1)\").index, cols[\"vol\"]].mean(\n",
    "    axis=0\n",
    ").sort_values()"
   ]
  },
  {
   "cell_type": "code",
   "execution_count": 11,
   "id": "0f744f95-d1f4-4f5c-ad61-2a9344a3cdf1",
   "metadata": {
    "execution": {
     "iopub.execute_input": "2023-01-09T03:57:06.571407Z",
     "iopub.status.busy": "2023-01-09T03:57:06.570523Z",
     "iopub.status.idle": "2023-01-09T03:57:06.597789Z",
     "shell.execute_reply": "2023-01-09T03:57:06.597363Z",
     "shell.execute_reply.started": "2023-01-09T03:57:06.571348Z"
    },
    "tags": []
   },
   "outputs": [
    {
     "data": {
      "text/html": [
       "<div>\n",
       "<style scoped>\n",
       "    .dataframe tbody tr th:only-of-type {\n",
       "        vertical-align: middle;\n",
       "    }\n",
       "\n",
       "    .dataframe tbody tr th {\n",
       "        vertical-align: top;\n",
       "    }\n",
       "\n",
       "    .dataframe thead th {\n",
       "        text-align: right;\n",
       "    }\n",
       "</style>\n",
       "<table border=\"1\" class=\"dataframe\">\n",
       "  <thead>\n",
       "    <tr style=\"text-align: right;\">\n",
       "      <th></th>\n",
       "      <th>ID</th>\n",
       "      <th>FTPPET_Date</th>\n",
       "      <th>ImageID</th>\n",
       "      <th>CohortAssgn</th>\n",
       "      <th>ScalingFactor_InfCerebGray</th>\n",
       "      <th>ScalingFactor_ErodedWM</th>\n",
       "      <th>Assigned_MRIBASED_MetaROI_ADNIcutoff_1p2</th>\n",
       "      <th>MetaROI_MRIBASED_SUVR</th>\n",
       "      <th>Braak_1_MRIBASED_SUVR</th>\n",
       "      <th>Braak_12_MRIBASED_SUVR</th>\n",
       "      <th>...</th>\n",
       "      <th>ctx_rh_rostralanteriorcingulate_ClustSize</th>\n",
       "      <th>ctx_rh_rostralmiddlefrontal_ClustSize</th>\n",
       "      <th>ctx_rh_superiorfrontal_ClustSize</th>\n",
       "      <th>ctx_rh_superiorparietal_ClustSize</th>\n",
       "      <th>ctx_rh_superiortemporal_ClustSize</th>\n",
       "      <th>ctx_rh_supramarginal_ClustSize</th>\n",
       "      <th>ctx_rh_frontalpole_ClustSize</th>\n",
       "      <th>ctx_rh_temporalpole_ClustSize</th>\n",
       "      <th>ctx_rh_transversetemporal_ClustSize</th>\n",
       "      <th>ctx_rh_insula_ClustSize</th>\n",
       "    </tr>\n",
       "  </thead>\n",
       "  <tbody>\n",
       "    <tr>\n",
       "      <th>0</th>\n",
       "      <td>LDS0070120</td>\n",
       "      <td>2019-06-20</td>\n",
       "      <td>I1182905</td>\n",
       "      <td>CN</td>\n",
       "      <td>0.9835</td>\n",
       "      <td>1.1526</td>\n",
       "      <td>0</td>\n",
       "      <td>1.158394</td>\n",
       "      <td>1.240590</td>\n",
       "      <td>1.234375</td>\n",
       "      <td>...</td>\n",
       "      <td>1750</td>\n",
       "      <td>22319</td>\n",
       "      <td>29378</td>\n",
       "      <td>9263</td>\n",
       "      <td>14476</td>\n",
       "      <td>7245</td>\n",
       "      <td>1448</td>\n",
       "      <td>2695</td>\n",
       "      <td>1034</td>\n",
       "      <td>9249</td>\n",
       "    </tr>\n",
       "    <tr>\n",
       "      <th>1</th>\n",
       "      <td>LDS0070166</td>\n",
       "      <td>2019-08-21</td>\n",
       "      <td>I1226127</td>\n",
       "      <td>EOAD</td>\n",
       "      <td>0.9838</td>\n",
       "      <td>1.5729</td>\n",
       "      <td>1</td>\n",
       "      <td>2.862929</td>\n",
       "      <td>1.932792</td>\n",
       "      <td>1.748436</td>\n",
       "      <td>...</td>\n",
       "      <td>1840</td>\n",
       "      <td>12147</td>\n",
       "      <td>17773</td>\n",
       "      <td>10002</td>\n",
       "      <td>10505</td>\n",
       "      <td>7714</td>\n",
       "      <td>1319</td>\n",
       "      <td>3021</td>\n",
       "      <td>921</td>\n",
       "      <td>6746</td>\n",
       "    </tr>\n",
       "    <tr>\n",
       "      <th>2</th>\n",
       "      <td>LDS0070166</td>\n",
       "      <td>2020-09-11</td>\n",
       "      <td>I1335994</td>\n",
       "      <td>EOAD</td>\n",
       "      <td>0.9509</td>\n",
       "      <td>1.4784</td>\n",
       "      <td>1</td>\n",
       "      <td>2.544361</td>\n",
       "      <td>1.839366</td>\n",
       "      <td>1.710155</td>\n",
       "      <td>...</td>\n",
       "      <td>1737</td>\n",
       "      <td>10534</td>\n",
       "      <td>17368</td>\n",
       "      <td>8952</td>\n",
       "      <td>10206</td>\n",
       "      <td>7178</td>\n",
       "      <td>1292</td>\n",
       "      <td>2822</td>\n",
       "      <td>875</td>\n",
       "      <td>6639</td>\n",
       "    </tr>\n",
       "    <tr>\n",
       "      <th>3</th>\n",
       "      <td>LDS0070166</td>\n",
       "      <td>2021-10-29</td>\n",
       "      <td>I1519134</td>\n",
       "      <td>EOAD</td>\n",
       "      <td>0.9819</td>\n",
       "      <td>1.5746</td>\n",
       "      <td>1</td>\n",
       "      <td>2.702192</td>\n",
       "      <td>1.943379</td>\n",
       "      <td>1.750326</td>\n",
       "      <td>...</td>\n",
       "      <td>1668</td>\n",
       "      <td>10036</td>\n",
       "      <td>16449</td>\n",
       "      <td>8910</td>\n",
       "      <td>9584</td>\n",
       "      <td>6750</td>\n",
       "      <td>1392</td>\n",
       "      <td>2830</td>\n",
       "      <td>782</td>\n",
       "      <td>6383</td>\n",
       "    </tr>\n",
       "    <tr>\n",
       "      <th>4</th>\n",
       "      <td>LDS0070166</td>\n",
       "      <td>2022-11-04</td>\n",
       "      <td>I1640345</td>\n",
       "      <td>EOAD</td>\n",
       "      <td>0.9338</td>\n",
       "      <td>1.4722</td>\n",
       "      <td>1</td>\n",
       "      <td>2.432061</td>\n",
       "      <td>1.819350</td>\n",
       "      <td>1.756143</td>\n",
       "      <td>...</td>\n",
       "      <td>1665</td>\n",
       "      <td>9282</td>\n",
       "      <td>16516</td>\n",
       "      <td>8405</td>\n",
       "      <td>9585</td>\n",
       "      <td>6125</td>\n",
       "      <td>1330</td>\n",
       "      <td>2752</td>\n",
       "      <td>818</td>\n",
       "      <td>6563</td>\n",
       "    </tr>\n",
       "    <tr>\n",
       "      <th>...</th>\n",
       "      <td>...</td>\n",
       "      <td>...</td>\n",
       "      <td>...</td>\n",
       "      <td>...</td>\n",
       "      <td>...</td>\n",
       "      <td>...</td>\n",
       "      <td>...</td>\n",
       "      <td>...</td>\n",
       "      <td>...</td>\n",
       "      <td>...</td>\n",
       "      <td>...</td>\n",
       "      <td>...</td>\n",
       "      <td>...</td>\n",
       "      <td>...</td>\n",
       "      <td>...</td>\n",
       "      <td>...</td>\n",
       "      <td>...</td>\n",
       "      <td>...</td>\n",
       "      <td>...</td>\n",
       "      <td>...</td>\n",
       "      <td>...</td>\n",
       "    </tr>\n",
       "    <tr>\n",
       "      <th>640</th>\n",
       "      <td>LDS9410412</td>\n",
       "      <td>2021-08-31</td>\n",
       "      <td>I1487527</td>\n",
       "      <td>EOnonAD</td>\n",
       "      <td>0.9813</td>\n",
       "      <td>1.2082</td>\n",
       "      <td>1</td>\n",
       "      <td>1.217195</td>\n",
       "      <td>1.246210</td>\n",
       "      <td>1.313947</td>\n",
       "      <td>...</td>\n",
       "      <td>2284</td>\n",
       "      <td>17205</td>\n",
       "      <td>21468</td>\n",
       "      <td>15207</td>\n",
       "      <td>11495</td>\n",
       "      <td>10522</td>\n",
       "      <td>1475</td>\n",
       "      <td>2894</td>\n",
       "      <td>1058</td>\n",
       "      <td>6867</td>\n",
       "    </tr>\n",
       "    <tr>\n",
       "      <th>641</th>\n",
       "      <td>LDS9410450</td>\n",
       "      <td>2022-02-09</td>\n",
       "      <td>I1548968</td>\n",
       "      <td>EOAD</td>\n",
       "      <td>0.9832</td>\n",
       "      <td>1.2816</td>\n",
       "      <td>1</td>\n",
       "      <td>1.677261</td>\n",
       "      <td>1.505026</td>\n",
       "      <td>1.425720</td>\n",
       "      <td>...</td>\n",
       "      <td>2091</td>\n",
       "      <td>12446</td>\n",
       "      <td>16683</td>\n",
       "      <td>9647</td>\n",
       "      <td>9455</td>\n",
       "      <td>7241</td>\n",
       "      <td>1474</td>\n",
       "      <td>2874</td>\n",
       "      <td>863</td>\n",
       "      <td>5730</td>\n",
       "    </tr>\n",
       "    <tr>\n",
       "      <th>642</th>\n",
       "      <td>LDS9410459</td>\n",
       "      <td>2022-02-01</td>\n",
       "      <td>I1542147</td>\n",
       "      <td>EOAD</td>\n",
       "      <td>0.9828</td>\n",
       "      <td>1.1536</td>\n",
       "      <td>1</td>\n",
       "      <td>1.580741</td>\n",
       "      <td>1.327861</td>\n",
       "      <td>1.314396</td>\n",
       "      <td>...</td>\n",
       "      <td>2104</td>\n",
       "      <td>19366</td>\n",
       "      <td>25145</td>\n",
       "      <td>13214</td>\n",
       "      <td>12296</td>\n",
       "      <td>9671</td>\n",
       "      <td>1432</td>\n",
       "      <td>2853</td>\n",
       "      <td>1271</td>\n",
       "      <td>7350</td>\n",
       "    </tr>\n",
       "    <tr>\n",
       "      <th>643</th>\n",
       "      <td>LDS9410487</td>\n",
       "      <td>2022-05-17</td>\n",
       "      <td>I1583509</td>\n",
       "      <td>EOnonAD</td>\n",
       "      <td>0.9086</td>\n",
       "      <td>1.0382</td>\n",
       "      <td>0</td>\n",
       "      <td>1.162100</td>\n",
       "      <td>1.126608</td>\n",
       "      <td>1.262715</td>\n",
       "      <td>...</td>\n",
       "      <td>1753</td>\n",
       "      <td>13765</td>\n",
       "      <td>18913</td>\n",
       "      <td>10579</td>\n",
       "      <td>11391</td>\n",
       "      <td>8217</td>\n",
       "      <td>1111</td>\n",
       "      <td>2631</td>\n",
       "      <td>880</td>\n",
       "      <td>5989</td>\n",
       "    </tr>\n",
       "    <tr>\n",
       "      <th>644</th>\n",
       "      <td>LDS9410525</td>\n",
       "      <td>2022-11-22</td>\n",
       "      <td>I1645931</td>\n",
       "      <td>EOnonAD</td>\n",
       "      <td>0.9792</td>\n",
       "      <td>1.2418</td>\n",
       "      <td>1</td>\n",
       "      <td>1.310102</td>\n",
       "      <td>1.392482</td>\n",
       "      <td>1.335924</td>\n",
       "      <td>...</td>\n",
       "      <td>2025</td>\n",
       "      <td>22059</td>\n",
       "      <td>21230</td>\n",
       "      <td>8377</td>\n",
       "      <td>10186</td>\n",
       "      <td>5389</td>\n",
       "      <td>1380</td>\n",
       "      <td>2279</td>\n",
       "      <td>783</td>\n",
       "      <td>6116</td>\n",
       "    </tr>\n",
       "  </tbody>\n",
       "</table>\n",
       "<p>645 rows × 247 columns</p>\n",
       "</div>"
      ],
      "text/plain": [
       "             ID FTPPET_Date   ImageID CohortAssgn  ScalingFactor_InfCerebGray  \\\n",
       "0    LDS0070120  2019-06-20  I1182905          CN                      0.9835   \n",
       "1    LDS0070166  2019-08-21  I1226127        EOAD                      0.9838   \n",
       "2    LDS0070166  2020-09-11  I1335994        EOAD                      0.9509   \n",
       "3    LDS0070166  2021-10-29  I1519134        EOAD                      0.9819   \n",
       "4    LDS0070166  2022-11-04  I1640345        EOAD                      0.9338   \n",
       "..          ...         ...       ...         ...                         ...   \n",
       "640  LDS9410412  2021-08-31  I1487527     EOnonAD                      0.9813   \n",
       "641  LDS9410450  2022-02-09  I1548968        EOAD                      0.9832   \n",
       "642  LDS9410459  2022-02-01  I1542147        EOAD                      0.9828   \n",
       "643  LDS9410487  2022-05-17  I1583509     EOnonAD                      0.9086   \n",
       "644  LDS9410525  2022-11-22  I1645931     EOnonAD                      0.9792   \n",
       "\n",
       "     ScalingFactor_ErodedWM  Assigned_MRIBASED_MetaROI_ADNIcutoff_1p2  \\\n",
       "0                    1.1526                                         0   \n",
       "1                    1.5729                                         1   \n",
       "2                    1.4784                                         1   \n",
       "3                    1.5746                                         1   \n",
       "4                    1.4722                                         1   \n",
       "..                      ...                                       ...   \n",
       "640                  1.2082                                         1   \n",
       "641                  1.2816                                         1   \n",
       "642                  1.1536                                         1   \n",
       "643                  1.0382                                         0   \n",
       "644                  1.2418                                         1   \n",
       "\n",
       "     MetaROI_MRIBASED_SUVR  Braak_1_MRIBASED_SUVR  Braak_12_MRIBASED_SUVR  \\\n",
       "0                 1.158394               1.240590                1.234375   \n",
       "1                 2.862929               1.932792                1.748436   \n",
       "2                 2.544361               1.839366                1.710155   \n",
       "3                 2.702192               1.943379                1.750326   \n",
       "4                 2.432061               1.819350                1.756143   \n",
       "..                     ...                    ...                     ...   \n",
       "640               1.217195               1.246210                1.313947   \n",
       "641               1.677261               1.505026                1.425720   \n",
       "642               1.580741               1.327861                1.314396   \n",
       "643               1.162100               1.126608                1.262715   \n",
       "644               1.310102               1.392482                1.335924   \n",
       "\n",
       "     ...  ctx_rh_rostralanteriorcingulate_ClustSize  \\\n",
       "0    ...                                       1750   \n",
       "1    ...                                       1840   \n",
       "2    ...                                       1737   \n",
       "3    ...                                       1668   \n",
       "4    ...                                       1665   \n",
       "..   ...                                        ...   \n",
       "640  ...                                       2284   \n",
       "641  ...                                       2091   \n",
       "642  ...                                       2104   \n",
       "643  ...                                       1753   \n",
       "644  ...                                       2025   \n",
       "\n",
       "     ctx_rh_rostralmiddlefrontal_ClustSize  ctx_rh_superiorfrontal_ClustSize  \\\n",
       "0                                    22319                             29378   \n",
       "1                                    12147                             17773   \n",
       "2                                    10534                             17368   \n",
       "3                                    10036                             16449   \n",
       "4                                     9282                             16516   \n",
       "..                                     ...                               ...   \n",
       "640                                  17205                             21468   \n",
       "641                                  12446                             16683   \n",
       "642                                  19366                             25145   \n",
       "643                                  13765                             18913   \n",
       "644                                  22059                             21230   \n",
       "\n",
       "     ctx_rh_superiorparietal_ClustSize  ctx_rh_superiortemporal_ClustSize  \\\n",
       "0                                 9263                              14476   \n",
       "1                                10002                              10505   \n",
       "2                                 8952                              10206   \n",
       "3                                 8910                               9584   \n",
       "4                                 8405                               9585   \n",
       "..                                 ...                                ...   \n",
       "640                              15207                              11495   \n",
       "641                               9647                               9455   \n",
       "642                              13214                              12296   \n",
       "643                              10579                              11391   \n",
       "644                               8377                              10186   \n",
       "\n",
       "     ctx_rh_supramarginal_ClustSize  ctx_rh_frontalpole_ClustSize  \\\n",
       "0                              7245                          1448   \n",
       "1                              7714                          1319   \n",
       "2                              7178                          1292   \n",
       "3                              6750                          1392   \n",
       "4                              6125                          1330   \n",
       "..                              ...                           ...   \n",
       "640                           10522                          1475   \n",
       "641                            7241                          1474   \n",
       "642                            9671                          1432   \n",
       "643                            8217                          1111   \n",
       "644                            5389                          1380   \n",
       "\n",
       "     ctx_rh_temporalpole_ClustSize  ctx_rh_transversetemporal_ClustSize  \\\n",
       "0                             2695                                 1034   \n",
       "1                             3021                                  921   \n",
       "2                             2822                                  875   \n",
       "3                             2830                                  782   \n",
       "4                             2752                                  818   \n",
       "..                             ...                                  ...   \n",
       "640                           2894                                 1058   \n",
       "641                           2874                                  863   \n",
       "642                           2853                                 1271   \n",
       "643                           2631                                  880   \n",
       "644                           2279                                  783   \n",
       "\n",
       "     ctx_rh_insula_ClustSize  \n",
       "0                       9249  \n",
       "1                       6746  \n",
       "2                       6639  \n",
       "3                       6383  \n",
       "4                       6563  \n",
       "..                       ...  \n",
       "640                     6867  \n",
       "641                     5730  \n",
       "642                     7350  \n",
       "643                     5989  \n",
       "644                     6116  \n",
       "\n",
       "[645 rows x 247 columns]"
      ]
     },
     "execution_count": 11,
     "metadata": {},
     "output_type": "execute_result"
    }
   ],
   "source": [
    "tau_rois.insert(1, \"tracer\", \"ftp\")\n",
    "rename_cols = {\n",
    "    \"ID\": \"subj\",\n",
    "    \"FTPPET_date\": \"scan_date\",\n",
    "    \"ImageID\": \"image_id\",\n",
    "    \"CohortAssgn\": \"dx\",\n",
    "}"
   ]
  },
  {
   "cell_type": "code",
   "execution_count": null,
   "id": "a084debf-df29-4d38-bd86-99660a09f075",
   "metadata": {},
   "outputs": [],
   "source": []
  }
 ],
 "metadata": {
  "kernelspec": {
   "display_name": "Python 3 (ipykernel)",
   "language": "python",
   "name": "python3"
  },
  "language_info": {
   "codemirror_mode": {
    "name": "ipython",
    "version": 3
   },
   "file_extension": ".py",
   "mimetype": "text/x-python",
   "name": "python",
   "nbconvert_exporter": "python",
   "pygments_lexer": "ipython3",
   "version": "3.10.6"
  },
  "widgets": {
   "application/vnd.jupyter.widget-state+json": {
    "state": {},
    "version_major": 2,
    "version_minor": 0
   }
  }
 },
 "nbformat": 4,
 "nbformat_minor": 5
}
