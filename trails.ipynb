{
 "cells": [
  {
   "cell_type": "code",
   "execution_count": 4,
   "metadata": {},
   "outputs": [],
   "source": [
    "import sys\n",
    "import os.path as op\n",
    "from glob import glob\n",
    "import itertools\n",
    "\n",
    "import matplotlib as mpl\n",
    "import matplotlib.pyplot as plt\n",
    "import numpy as np\n",
    "import pandas as pd\n",
    "import scipy.stats as stats\n",
    "from scipy.interpolate import interp1d\n",
    "import seaborn as sns\n",
    "import statsmodels.api as sm\n",
    "from statsmodels.stats.multitest import multipletests\n",
    "from patsy import dmatrix\n",
    "\n",
    "pd.options.display.max_rows = 100\n",
    "pd.options.display.max_columns = 999\n",
    "import statsmodels.api as sm\n",
    "from sklearn.metrics import mean_squared_error as mse\n",
    "\n",
    "sys.path.append(op.join(op.expanduser(\"~\"), \"code\", \"style\"))\n",
    "from colors import get_colors\n",
    "\n",
    "co, palettes = get_colors()\n",
    "\n",
    "from general.array import array_operations as aop\n",
    "from general.basic.config import get_plot_defaults, set_rcparams\n",
    "\n",
    "mpl.rcParams = set_rcparams(mpl.rcParams)\n",
    "mpl.rcParams[\"axes.grid\"] = False\n",
    "d = get_plot_defaults()\n",
    "co = d.get(\"colors\", None)\n",
    "colws = d.get(\"colws\", None)\n",
    "font = d.get(\"font\", None)\n",
    "lws = d.get(\"lws\", None)\n",
    "pad = d.get(\"pad\", None)\n",
    "palettes = d.get(\"palettes\", None)\n",
    "from general.basic.helper_funcs import *\n",
    "from general.basic.str_methods import *\n",
    "import general.nifti.nifti_ops as nops"
   ]
  },
  {
   "cell_type": "code",
   "execution_count": 5,
   "metadata": {},
   "outputs": [],
   "source": [
    "# Get paths to relevant directories.\n",
    "proc_date = \"2023-12-20\"\n",
    "proj_dir = op.join(op.expanduser(\"~\"), \"box/projects/leads_tau_spread\")\n",
    "ssheet_dir = op.join(proj_dir, \"data\", \"ssheets\")\n",
    "loni_dir = op.join(ssheet_dir, \"loni\", f\"download_{proc_date}\")\n",
    "fig_dir = op.join(proj_dir, \"figs\", \"hai_2024\")"
   ]
  },
  {
   "cell_type": "code",
   "execution_count": 20,
   "metadata": {},
   "outputs": [
    {
     "name": "stdout",
     "output_type": "stream",
     "text": [
      "tau_eoad: (54404, 41)\n",
      "cdr_eoad: (490, 14)\n",
      "187 EOAD subjects with 2+ FTP scans and 1+ CDR scores\n"
     ]
    }
   ],
   "source": [
    "# Import ROI extraction and CDR data.\n",
    "tau_eoad = pd.read_csv(op.join(ssheet_dir, \"tau-rois-agg_eoad-long_2024-02-06.csv\"))\n",
    "cdr_eoad = pd.read_csv(\n",
    "    op.join(ssheet_dir, \"cdr-sb_eoad-long_formatted_193subjs_2023-12-30.csv\")\n",
    ")\n",
    "\n",
    "# Find subjects with 1+ CDR scores and 2+ FTP scans\n",
    "eoad_long_subjs = np.intersect1d(\n",
    "    tau_eoad.query(\"(ftp_visits>1)\")[\"subj\"], cdr_eoad[\"subj\"]\n",
    ")\n",
    "tau_eoad = tau_eoad.query(\"(subj in @eoad_long_subjs)\").reset_index(drop=True)\n",
    "cdr_eoad = cdr_eoad.query(\"(subj in @eoad_long_subjs) & (cdr_visits>1)\").reset_index(\n",
    "    drop=True\n",
    ")\n",
    "\n",
    "# Add suvr_last column to tau_eoad\n",
    "tau_eoad[\"suvr_last\"] = (\n",
    "    tau_eoad.sort_values([\"subj\", \"roi\", \"visit\"])\n",
    "    .groupby([\"subj\", \"roi\"])[\"suvr\"]\n",
    "    .shift(1)\n",
    ")\n",
    "tau_eoad[\"vol_last\"] = (\n",
    "    tau_eoad.sort_values([\"subj\", \"roi\", \"visit\"])\n",
    "    .groupby([\"subj\", \"roi\"])[\"vol\"]\n",
    "    .shift(1)\n",
    ")\n",
    "\n",
    "print(f\"tau_eoad: {tau_eoad.shape}\")\n",
    "print(f\"cdr_eoad: {cdr_eoad.shape}\")\n",
    "print(f\"{len(eoad_long_subjs)} EOAD subjects with 2+ FTP scans and 1+ CDR scores\")"
   ]
  },
  {
   "cell_type": "code",
   "execution_count": 21,
   "metadata": {},
   "outputs": [
    {
     "name": "stdout",
     "output_type": "stream",
     "text": [
      "data: (4242, 5)\n",
      "187 subjects, 9 keys\n"
     ]
    }
   ],
   "source": [
    "# Format everything in one dataframe before modeling.\n",
    "cols = [\n",
    "    \"subj\",\n",
    "    \"visit\",\n",
    "    \"key\",\n",
    "    \"val_last\",\n",
    "    \"val_annchg\",\n",
    "]\n",
    "data = []\n",
    "_data = cdr_eoad.loc[\n",
    "    :, [\"subj\", \"visit\", \"cdr_sb_last\", \"cdr_sb_annchg_from_last\"]\n",
    "].copy()\n",
    "_data.insert(2, \"key\", \"cdr_sb\")\n",
    "_data.columns = cols\n",
    "data.append(_data)\n",
    "\n",
    "_data = (\n",
    "    tau_eoad.query(\"(parc==['metarois', 'earlyrois'])\")\n",
    "    .reset_index(drop=True)\n",
    "    .loc[:, [\"subj\", \"visit\", \"roi\", \"suvr_last\", \"suvr_annchg_from_last\"]]\n",
    "    .copy()\n",
    ")\n",
    "_data.columns = cols\n",
    "data.append(_data)\n",
    "\n",
    "data = (\n",
    "    pd.concat(data, axis=0).sort_values([\"key\", \"subj\", \"visit\"]).reset_index(drop=True)\n",
    ")\n",
    "print(f\"data: {data.shape}\")\n",
    "print(f\"{data['subj'].nunique()} subjects, {data['key'].nunique()} keys\")"
   ]
  },
  {
   "cell_type": "code",
   "execution_count": 22,
   "metadata": {},
   "outputs": [
    {
     "data": {
      "text/html": [
       "<div>\n",
       "<style scoped>\n",
       "    .dataframe tbody tr th:only-of-type {\n",
       "        vertical-align: middle;\n",
       "    }\n",
       "\n",
       "    .dataframe tbody tr th {\n",
       "        vertical-align: top;\n",
       "    }\n",
       "\n",
       "    .dataframe thead th {\n",
       "        text-align: right;\n",
       "    }\n",
       "</style>\n",
       "<table border=\"1\" class=\"dataframe\">\n",
       "  <thead>\n",
       "    <tr style=\"text-align: right;\">\n",
       "      <th></th>\n",
       "      <th>subj</th>\n",
       "      <th>visit</th>\n",
       "      <th>key</th>\n",
       "      <th>val_last</th>\n",
       "      <th>val_annchg</th>\n",
       "    </tr>\n",
       "  </thead>\n",
       "  <tbody>\n",
       "    <tr>\n",
       "      <th>0</th>\n",
       "      <td>LDS0070166</td>\n",
       "      <td>1</td>\n",
       "      <td>bltemp</td>\n",
       "      <td>NaN</td>\n",
       "      <td>NaN</td>\n",
       "    </tr>\n",
       "    <tr>\n",
       "      <th>1</th>\n",
       "      <td>LDS0070166</td>\n",
       "      <td>2</td>\n",
       "      <td>bltemp</td>\n",
       "      <td>3.052760</td>\n",
       "      <td>-0.345061</td>\n",
       "    </tr>\n",
       "    <tr>\n",
       "      <th>2</th>\n",
       "      <td>LDS0070166</td>\n",
       "      <td>3</td>\n",
       "      <td>bltemp</td>\n",
       "      <td>2.687151</td>\n",
       "      <td>0.150959</td>\n",
       "    </tr>\n",
       "    <tr>\n",
       "      <th>3</th>\n",
       "      <td>LDS0070166</td>\n",
       "      <td>4</td>\n",
       "      <td>bltemp</td>\n",
       "      <td>2.857845</td>\n",
       "      <td>-0.310755</td>\n",
       "    </tr>\n",
       "    <tr>\n",
       "      <th>4</th>\n",
       "      <td>LDS0070174</td>\n",
       "      <td>1</td>\n",
       "      <td>bltemp</td>\n",
       "      <td>NaN</td>\n",
       "      <td>NaN</td>\n",
       "    </tr>\n",
       "  </tbody>\n",
       "</table>\n",
       "</div>"
      ],
      "text/plain": [
       "         subj  visit     key  val_last  val_annchg\n",
       "0  LDS0070166      1  bltemp       NaN         NaN\n",
       "1  LDS0070166      2  bltemp  3.052760   -0.345061\n",
       "2  LDS0070166      3  bltemp  2.687151    0.150959\n",
       "3  LDS0070166      4  bltemp  2.857845   -0.310755\n",
       "4  LDS0070174      1  bltemp       NaN         NaN"
      ]
     },
     "execution_count": 22,
     "metadata": {},
     "output_type": "execute_result"
    }
   ],
   "source": [
    "data.head()"
   ]
  },
  {
   "cell_type": "code",
   "execution_count": null,
   "metadata": {},
   "outputs": [],
   "source": [
    "class Trails(object):\n",
    "    def __init__(self, data):\n",
    "        self.data = data\n",
    "        self.trails = self.fit_trails()\n",
    "\n",
    "    def get_trails(self):\n",
    "        trails = self.tau_all_agg.query(\"roi == 'Trails'\")\n",
    "        trails = trails.query(\"age >= 50\")\n",
    "        trails = trails.query(\"age <= 90\")\n",
    "        trails = trails.query"
   ]
  }
 ],
 "metadata": {
  "kernelspec": {
   "display_name": "nipy310",
   "language": "python",
   "name": "python3"
  },
  "language_info": {
   "codemirror_mode": {
    "name": "ipython",
    "version": 3
   },
   "file_extension": ".py",
   "mimetype": "text/x-python",
   "name": "python",
   "nbconvert_exporter": "python",
   "pygments_lexer": "ipython3",
   "version": "3.10.11"
  }
 },
 "nbformat": 4,
 "nbformat_minor": 2
}
