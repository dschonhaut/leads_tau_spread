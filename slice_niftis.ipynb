{
 "cells": [
  {
   "cell_type": "code",
   "execution_count": 1,
   "metadata": {},
   "outputs": [],
   "source": [
    "import sys\n",
    "import os.path as op\n",
    "from glob import glob\n",
    "\n",
    "import matplotlib as mpl\n",
    "import matplotlib.pyplot as plt\n",
    "%matplotlib inline\n",
    "import numpy as np\n",
    "import pandas as pd\n",
    "pd.options.display.max_rows = 100\n",
    "pd.options.display.max_columns = 999\n",
    "import scipy.stats as stats\n",
    "from scipy.interpolate import interp1d\n",
    "import seaborn as sns\n",
    "import statsmodels.api as sm\n",
    "\n",
    "from general.array import array_operations as aop\n",
    "from general.basic.config import get_plot_defaults, set_rcparams\n",
    "mpl.rcParams = set_rcparams(mpl.rcParams)\n",
    "d = get_plot_defaults()\n",
    "co = d.get(\"colors\", None)\n",
    "colws = d.get(\"colws\", None)\n",
    "font = d.get(\"font\", None)\n",
    "lws = d.get(\"lws\", None)\n",
    "pad = d.get(\"pad\", None)\n",
    "palettes = d.get(\"palettes\", None)\n",
    "from general.basic.helper_funcs import *\n",
    "from general.basic.str_methods import *\n",
    "import general.nifti.nifti_ops as nops\n"
   ]
  },
  {
   "cell_type": "code",
   "execution_count": null,
   "metadata": {},
   "outputs": [],
   "source": []
  }
 ],
 "metadata": {
  "kernelspec": {
   "display_name": "nipy310",
   "language": "python",
   "name": "python3"
  },
  "language_info": {
   "codemirror_mode": {
    "name": "ipython",
    "version": 3
   },
   "file_extension": ".py",
   "mimetype": "text/x-python",
   "name": "python",
   "nbconvert_exporter": "python",
   "pygments_lexer": "ipython3",
   "version": "3.10.11"
  }
 },
 "nbformat": 4,
 "nbformat_minor": 2
}
